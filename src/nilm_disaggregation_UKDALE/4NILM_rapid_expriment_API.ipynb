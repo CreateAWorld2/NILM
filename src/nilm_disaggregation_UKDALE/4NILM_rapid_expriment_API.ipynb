{
 "cells": [
  {
   "cell_type": "code",
   "execution_count": 1,
   "metadata": {},
   "outputs": [],
   "source": [
    "from nilmtk.api import API\n",
    "import warnings\n",
    "warnings.filterwarnings(\"ignore\")\n",
    "\n",
    "from nilmtk.disaggregate import CO"
   ]
  },
  {
   "cell_type": "code",
   "execution_count": 8,
   "metadata": {},
   "outputs": [
    {
     "name": "stdout",
     "output_type": "stream",
     "text": [
      "Joint Testing for all algorithms\n",
      "Loading data for  Dataport  dataset\n",
      "Dropping missing values\n",
      "Generating predictions for : CO\n",
      "...............CO disaggregate_chunk running.............\n",
      "............  rmse  ..............wave'\n",
      "                   CO\n",
      "fridge     150.478151\n",
      "microwave  306.014603\n"
     ]
    }
   ],
   "source": [
    "experiment1 = {\n",
    "  'power': {'mains': ['apparent','active'],'appliance': ['apparent','active']},\n",
    "  'sample_rate': 60,\n",
    "  'appliances': ['fridge', 'microwave'],\n",
    "  'methods': {\"CO\":CO({})},\n",
    "  'train': {    \n",
    "    'datasets': {\n",
    "        'Dataport': {\n",
    "            'path': r'E:\\重庆师范大学\\研一上\\非侵入式负荷检测\\program\\data\\ukdale_h5\\ukdale.h5',\n",
    "            'buildings': {\n",
    "                1: {\n",
    "                    'start_time': '2014-04-04',\n",
    "                    'end_time': '2014-04-06'\n",
    "                    }\n",
    "                }                \n",
    "            }\n",
    "        }\n",
    "    },\n",
    "  'test': {\n",
    "    'datasets': {\n",
    "        'Dataport': {\n",
    "            'path': r'E:\\重庆师范大学\\研一上\\非侵入式负荷检测\\program\\data\\ukdale_h5\\ukdale.h5',\n",
    "            'buildings': {\n",
    "                1: {\n",
    "                    'start_time': '2014-04-25',\n",
    "                    'end_time': '2014-04-26'\n",
    "                    }\n",
    "                }\n",
    "            }\n",
    "        },\n",
    "        'metrics':['rmse']\n",
    "    }\n",
    "}\n",
    "\n",
    "api_results_experiment_1 = API(experiment1)"
   ]
  },
  {
   "cell_type": "code",
   "execution_count": 10,
   "metadata": {},
   "outputs": [
    {
     "name": "stdout",
     "output_type": "stream",
     "text": [
      "Dataport_1_rmse\n",
      "                   CO\n",
      "fridge     150.478151\n",
      "microwave  306.014603\n",
      "\n",
      "\n",
      "\n"
     ]
    }
   ],
   "source": [
    "#单独提取指标，结果展示：正确率\n",
    "errors_keys = api_results_experiment_1.errors_keys\n",
    "errors = api_results_experiment_1.errors\n",
    "for i in range(len(errors)):\n",
    "    print (errors_keys[i])\n",
    "    print (errors[i])\n",
    "    print (\"\\n\\n\")"
   ]
  },
  {
   "cell_type": "code",
   "execution_count": 31,
   "metadata": {},
   "outputs": [
    {
     "name": "stdout",
     "output_type": "stream",
     "text": [
      "Joint Testing for all algorithms\n",
      "Loading data for  Datport  dataset\n",
      "Dropping missing values\n",
      "Generating predictions for : Mean\n",
      "Generating predictions for : FHMM\n",
      "Generating predictions for : CO\n",
      "...............CO disaggregate_chunk running.............\n",
      "............  mae  ..............owave'\n",
      "                Mean  FHMM_EXACT  CombinatorialOptimisation\n",
      "fridge     45.462482   58.188625                 127.576561\n",
      "microwave  17.822483  216.337433                 168.621658\n",
      "............  rmse  ..............\n",
      "                 Mean  FHMM_EXACT  CombinatorialOptimisation\n",
      "fridge      48.518506   73.846157                 150.478151\n",
      "microwave  113.059727  355.083177                 306.014603\n"
     ]
    }
   ],
   "source": [
    "from nilmtk.disaggregate import FHMMExact,Mean\n",
    "\n",
    "experiment2 = {\n",
    "  'power': {'mains': ['apparent','active'],'appliance': ['apparent','active']},\n",
    "  'sample_rate': 60,\n",
    "  'appliances': ['fridge', 'microwave'],\n",
    "  'methods': {\"Mean\":Mean({}),\"FHMM_EXACT\":FHMMExact({'num_of_states':2}), \"CombinatorialOptimisation\":CO({})},\n",
    "  'train': {    \n",
    "    'datasets': {\n",
    "        'Dataport': {\n",
    "            'path': r'E:\\重庆师范大学\\研一上\\非侵入式负荷检测\\program\\data\\ukdale_h5\\ukdale.h5',\n",
    "            'buildings': {\n",
    "                1: {\n",
    "                    'start_time': '2014-04-04',\n",
    "                    'end_time': '2014-04-06'\n",
    "                    }\n",
    "                }                \n",
    "            }\n",
    "        }\n",
    "    },\n",
    "  'test': {\n",
    "    'datasets': {\n",
    "        'Datport': {\n",
    "            'path': r'E:\\重庆师范大学\\研一上\\非侵入式负荷检测\\program\\data\\ukdale_h5\\ukdale.h5',\n",
    "            'buildings': {\n",
    "                1: {\n",
    "                    'start_time': '2014-04-25',\n",
    "                    'end_time': '2014-04-26'\n",
    "                    }\n",
    "                }\n",
    "            }\n",
    "        },\n",
    "        'metrics':['mae', 'rmse']\n",
    "    }\n",
    "}\n",
    "\n",
    "api_results_experiment_2 = API(experiment2)"
   ]
  },
  {
   "cell_type": "code",
   "execution_count": 35,
   "metadata": {},
   "outputs": [
    {
     "name": "stdout",
     "output_type": "stream",
     "text": [
      "Joint Testing for all algorithms\n",
      "Loading data for  Datport  dataset\n",
      "Dropping missing values\n",
      "Creating an Artificial Aggregate\n",
      "Generating predictions for : Mean\n",
      "Generating predictions for : Hart85\n",
      "Finding Edges, please wait ...\n",
      "Edge detection complete.\n",
      "Creating transition frame ...\n",
      "Transition frame created.\n",
      "Creating states frame ...\n",
      "States frame created.\n",
      "Finished.\n",
      "Generating predictions for : FHMM\n",
      "Generating predictions for : CO\n",
      "...............CO disaggregate_chunk running.............\n",
      "............  mae  ..............ge'\n",
      "            Mean    Hart85  FHMM_EXACT        CO\n",
      "fridge  39.59288  5.331343    3.051364  3.075066\n",
      "............  rmse  ..............\n",
      "             Mean     Hart85  FHMM_EXACT        CO\n",
      "fridge  42.027527  20.111823    9.921674  8.096324\n"
     ]
    }
   ],
   "source": [
    "#  we introduce more parameters chunksize, DROP_ALL_NANS and artificial_aggregate and add another disaggregation algorithm (Hart85)\n",
    "from nilmtk.disaggregate import Hart85\n",
    "\n",
    "experiment3 = {\n",
    "  'power': {'mains': ['apparent','active'],'appliance': ['apparent','active']},\n",
    "  'sample_rate': 60,\n",
    "  'appliances': ['fridge'],\n",
    "  'artificial_aggregate': True,\n",
    "  'chunksize': 20000,\n",
    "  'DROP_ALL_NANS': True,\n",
    "  'methods': {\"Mean\":Mean({}),\"Hart85\":Hart85({}), \"FHMM_EXACT\":FHMMExact({'num_of_states':2}), \"CO\":CO({})},\n",
    "  'train': {    \n",
    "    'datasets': {\n",
    "      'Dataport': {\n",
    "        'path': r'E:\\重庆师范大学\\研一上\\非侵入式负荷检测\\program\\data\\ukdale_h5\\ukdale.h5',\n",
    "        'buildings': {\n",
    "          1: {\n",
    "            'start_time': '2013-03-28',\n",
    "            'end_time': '2013-04-12'\n",
    "          },\n",
    "                }                \n",
    "            }\n",
    "        }\n",
    "    },\n",
    "  'test': {\n",
    "    'datasets': {\n",
    "      'Datport': {\n",
    "        'path': r'E:\\重庆师范大学\\研一上\\非侵入式负荷检测\\program\\data\\ukdale_h5\\ukdale.h5',\n",
    "        'buildings': {\n",
    "          4: {\n",
    "            'start_time': '2013-03-28',\n",
    "            'end_time': '2013-04-12'\n",
    "          },\n",
    "        }\n",
    "      }\n",
    "    },\n",
    "        'metrics':['mae', 'rmse']\n",
    "    }\n",
    "}\n",
    "\n",
    "api_results_experiment_3 = API(experiment3)"
   ]
  },
  {
   "cell_type": "code",
   "execution_count": 39,
   "metadata": {},
   "outputs": [
    {
     "name": "stdout",
     "output_type": "stream",
     "text": [
      "Joint Testing for all algorithms\n",
      "Loading data for  UKDALE  dataset\n",
      "Dropping missing values\n",
      "Creating an Artificial Aggregate\n",
      "Generating predictions for : Mean\n",
      "Generating predictions for : Hart85\n",
      "Finding Edges, please wait ...\n",
      "Edge detection complete.\n",
      "Creating transition frame ...\n",
      "Transition frame created.\n",
      "Creating states frame ...\n",
      "States frame created.\n",
      "Finished.\n",
      "Generating predictions for : FHMM\n",
      "Generating predictions for : CO\n",
      "...............CO disaggregate_chunk running.............\n",
      "............  mae  ..............ge' machine'\n",
      "                      Mean     Hart85  FHMM_EXACT        CO\n",
      "washing machine  51.329582  23.594627   17.330345  5.375621\n",
      "fridge           44.263672   7.307562    6.209357  5.887019\n",
      "............  rmse  ..............\n",
      "                       Mean      Hart85  FHMM_EXACT         CO\n",
      "washing machine  179.568678  180.977991  124.955910  36.450356\n",
      "fridge            48.880277   32.258237   24.698127  25.826986\n"
     ]
    }
   ],
   "source": [
    "experiment4 = {\n",
    "  'power': {'mains': ['apparent','active'],'appliance': ['apparent','active']},\n",
    "  'sample_rate': 60,\n",
    "  'appliances': ['washing machine','fridge'],\n",
    "  'artificial_aggregate': True,\n",
    "  'chunksize': 20000,\n",
    "  'DROP_ALL_NANS': True,\n",
    "  'methods': {\"Mean\":Mean({}),\"Hart85\":Hart85({}), \"FHMM_EXACT\":FHMMExact({'num_of_states':2}), 'CO':CO({})},   \n",
    "  'train': {\n",
    "    'datasets': {\n",
    "      'UKDALE': {\n",
    "        'path': r'E:\\重庆师范大学\\研一上\\非侵入式负荷检测\\program\\data\\ukdale_h5\\ukdale.h5',\n",
    "        'buildings': {\n",
    "              1: {\n",
    "                'start_time': '2014-01-05',\n",
    "                'end_time': '2014-03-05'\n",
    "              },          \n",
    "            }\n",
    "          },        \n",
    "        }\n",
    "      },    \n",
    "  'test': {\n",
    "    'datasets': {\n",
    "      'UKDALE': {\n",
    "        'path': r'E:\\重庆师范大学\\研一上\\非侵入式负荷检测\\program\\data\\ukdale_h5\\ukdale.h5',\n",
    "        'buildings': {\n",
    "              1: {\n",
    "                    'start_time': '2014-09-21',\n",
    "                    'end_time': '2014-10-01'\n",
    "          }\n",
    "        }\n",
    "      },\n",
    "      'UKDALE': {\n",
    "        'path': r'E:\\重庆师范大学\\研一上\\非侵入式负荷检测\\program\\data\\ukdale_h5\\ukdale.h5',\n",
    "        'buildings': {\n",
    "              1: {\n",
    "                    'start_time': '2013-04-17',\n",
    "                    'end_time': '2013-04-27'\n",
    "          }\n",
    "        }\n",
    "      }\n",
    "    },\n",
    "        'metrics':['mae', 'rmse']\n",
    "    }\n",
    "}\n",
    "\n",
    "api_results_experiment_4 = API(experiment4)"
   ]
  },
  {
   "cell_type": "code",
   "execution_count": null,
   "metadata": {},
   "outputs": [],
   "source": []
  },
  {
   "cell_type": "code",
   "execution_count": null,
   "metadata": {},
   "outputs": [],
   "source": []
  },
  {
   "cell_type": "code",
   "execution_count": null,
   "metadata": {},
   "outputs": [],
   "source": []
  },
  {
   "cell_type": "code",
   "execution_count": null,
   "metadata": {},
   "outputs": [],
   "source": []
  },
  {
   "cell_type": "code",
   "execution_count": null,
   "metadata": {},
   "outputs": [],
   "source": []
  },
  {
   "cell_type": "code",
   "execution_count": null,
   "metadata": {},
   "outputs": [],
   "source": []
  }
 ],
 "metadata": {
  "kernelspec": {
   "display_name": "Python 3.8.13 ('nilmtk-env')",
   "language": "python",
   "name": "python3"
  },
  "language_info": {
   "codemirror_mode": {
    "name": "ipython",
    "version": 3
   },
   "file_extension": ".py",
   "mimetype": "text/x-python",
   "name": "python",
   "nbconvert_exporter": "python",
   "pygments_lexer": "ipython3",
   "version": "3.8.13"
  },
  "orig_nbformat": 4,
  "vscode": {
   "interpreter": {
    "hash": "c70cd8dadd08809a15a24d98562048a29a560b86f6142c56e5f72b83afcbbf45"
   }
  }
 },
 "nbformat": 4,
 "nbformat_minor": 2
}
