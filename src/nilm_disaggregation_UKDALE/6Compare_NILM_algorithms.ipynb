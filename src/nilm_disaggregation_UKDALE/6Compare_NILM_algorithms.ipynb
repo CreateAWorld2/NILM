{
 "cells": [
  {
   "cell_type": "code",
   "execution_count": null,
   "metadata": {},
   "outputs": [],
   "source": []
  }
 ],
 "metadata": {
  "kernelspec": {
   "display_name": "Python 3.8.13 ('nilmtk-env')",
   "language": "python",
   "name": "python3"
  },
  "language_info": {
   "name": "python",
   "version": "3.8.13"
  },
  "orig_nbformat": 4,
  "vscode": {
   "interpreter": {
    "hash": "c70cd8dadd08809a15a24d98562048a29a560b86f6142c56e5f72b83afcbbf45"
   }
  }
 },
 "nbformat": 4,
 "nbformat_minor": 2
}
