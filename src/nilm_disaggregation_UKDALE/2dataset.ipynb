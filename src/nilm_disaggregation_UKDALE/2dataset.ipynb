{
 "cells": [
  {
   "cell_type": "code",
   "execution_count": null,
   "metadata": {},
   "outputs": [],
   "source": []
  },
  {
   "cell_type": "code",
   "execution_count": 1,
   "metadata": {},
   "outputs": [
    {
     "data": {
      "text/html": [
       "<ul><li><strong>1</strong>: Building(instance=1, dataset='UK-DALE')</li><li><strong>2</strong>: Building(instance=2, dataset='UK-DALE')</li><li><strong>3</strong>: Building(instance=3, dataset='UK-DALE')</li><li><strong>4</strong>: Building(instance=4, dataset='UK-DALE')</li><li><strong>5</strong>: Building(instance=5, dataset='UK-DALE')</li></ul>"
      ],
      "text/plain": [
       "<IPython.core.display.HTML object>"
      ]
     },
     "metadata": {},
     "output_type": "display_data"
    },
    {
     "data": {
      "text/html": [
       "<ul><li><strong>description</strong>: Some individual appliance meters are switched off from the socket for significant portions of time.  These include (using original names): laptop, kettle, toaster, lcd_office, hifi_office, livingroom_s_lamp, soldering_iron, gigE_&_USBhub, hoover, iPad_charger, utilityrm_lamp, hair_dryer, straighteners, iron, childs_ds_lamp, office_lamp3, office_pc, gigE_switch</li><li><strong>description_of_occupants</strong>: 2 adults and 1 dog started living in the house in 2006 (i.e. before the dataset started recording).  One child born 2011-08-27 and a second child born 2014-04-27.</li><li><strong>original_name</strong>: house_1</li><li><strong>heating</strong>: <ul><li>natural gas</li></ul></li><li><strong>instance</strong>: 1</li><li><strong>building_type</strong>: end of terrace</li><li><strong>energy_improvements</strong>: <ul><li>solar thermal</li><li>loft insulation</li><li>solid wall insulation</li><li>double glazing</li></ul></li><li><strong>rooms</strong>: <ul><li>{'name': 'lounge', 'floor': 0}</li><li>{'instance': 1, 'name': 'hall', 'floor': 0}</li><li>{'instance': 2, 'name': 'hall', 'floor': 1}</li><li>{'name': 'kitchen', 'floor': 0}</li><li>{'name': 'utility', 'floor': 0}</li><li>{'name': 'dining room', 'floor': 0}</li><li>{'instance': 1, 'floor': 1, 'description': 'master bedroom', 'name': 'bedroom'}</li><li>{'instance': 2, 'floor': 1, 'description': \"kid's bedroom\", 'name': 'bedroom'}</li><li>{'instance': 1, 'floor': 1, 'description': 'occasionally used as a spare bedroom ', 'name': 'study'}</li><li>{'instance': 1, 'floor': 1, 'description': 'shower + bath + toilet + sink + cupboards + hot water tank + boiler + solar thermal pumping station', 'name': 'bathroom'}</li></ul></li><li><strong>ownership</strong>: bought</li><li><strong>timeframe</strong>: <ul><li><strong>start</strong>: 2012-11-09T22:28:15+00:00</li><li><strong>end</strong>: 2015-01-05T06:26:44+00:00</li></ul></li><li><strong>construction_year</strong>: 1905</li><li><strong>n_occupants</strong>: 4</li><li><strong>dataset</strong>: UK-DALE</li></ul>"
      ],
      "text/plain": [
       "<IPython.core.display.HTML object>"
      ]
     },
     "metadata": {},
     "output_type": "display_data"
    }
   ],
   "source": [
    "from nilmtk import DataSet\n",
    "from nilmtk.utils import print_dict\n",
    "\n",
    "ukdata = DataSet(r'E:\\重庆师范大学\\研一上\\非侵入式负荷检测\\program\\data\\ukdale_h5\\ukdale.h5')\n",
    "#print_dict(ukdata.metadata)\n",
    "print_dict(ukdata.buildings)\n",
    "print_dict(ukdata.buildings[1].metadata)\n"
   ]
  },
  {
   "cell_type": "code",
   "execution_count": 8,
   "metadata": {},
   "outputs": [
    {
     "data": {
      "text/plain": [
       "MeterGroup(meters=\n",
       "  ElecMeter(instance=2, building=1, dataset='UK-DALE', appliances=[Appliance(type='boiler', instance=1)])\n",
       "  ElecMeter(instance=3, building=1, dataset='UK-DALE', appliances=[Appliance(type='solar thermal pumping station', instance=1)])\n",
       "  ElecMeter(instance=4, building=1, dataset='UK-DALE', appliances=[Appliance(type='laptop computer', instance=1), Appliance(type='laptop computer', instance=3)])\n",
       "  ElecMeter(instance=5, building=1, dataset='UK-DALE', appliances=[Appliance(type='washer dryer', instance=1)])\n",
       "  ElecMeter(instance=6, building=1, dataset='UK-DALE', appliances=[Appliance(type='dish washer', instance=1)])\n",
       "  ElecMeter(instance=7, building=1, dataset='UK-DALE', appliances=[Appliance(type='television', instance=1)])\n",
       "  ElecMeter(instance=8, building=1, dataset='UK-DALE', appliances=[Appliance(type='light', instance=1), Appliance(type='light', instance=2)])\n",
       "  ElecMeter(instance=9, building=1, dataset='UK-DALE', appliances=[Appliance(type='HTPC', instance=1)])\n",
       "  ElecMeter(instance=10, building=1, dataset='UK-DALE', appliances=[Appliance(type='kettle', instance=1), Appliance(type='food processor', instance=1), Appliance(type='toasted sandwich maker', instance=1)])\n",
       "  ElecMeter(instance=11, building=1, dataset='UK-DALE', appliances=[Appliance(type='toaster', instance=1), Appliance(type='kitchen aid', instance=1), Appliance(type='food processor', instance=2)])\n",
       "  ElecMeter(instance=12, building=1, dataset='UK-DALE', appliances=[Appliance(type='fridge freezer', instance=1)])\n",
       "  ElecMeter(instance=13, building=1, dataset='UK-DALE', appliances=[Appliance(type='microwave', instance=1)])\n",
       "  ElecMeter(instance=14, building=1, dataset='UK-DALE', appliances=[Appliance(type='computer monitor', instance=1)])\n",
       "  ElecMeter(instance=15, building=1, dataset='UK-DALE', appliances=[Appliance(type='audio system', instance=1)])\n",
       "  ElecMeter(instance=16, building=1, dataset='UK-DALE', appliances=[Appliance(type='breadmaker', instance=1)])\n",
       "  ElecMeter(instance=17, building=1, dataset='UK-DALE', appliances=[Appliance(type='audio amplifier', instance=1)])\n",
       "  ElecMeter(instance=18, building=1, dataset='UK-DALE', appliances=[Appliance(type='broadband router', instance=1)])\n",
       "  ElecMeter(instance=19, building=1, dataset='UK-DALE', appliances=[Appliance(type='light', instance=3)])\n",
       "  ElecMeter(instance=20, building=1, dataset='UK-DALE', appliances=[Appliance(type='soldering iron', instance=1)])\n",
       "  ElecMeter(instance=21, building=1, dataset='UK-DALE', appliances=[Appliance(type='ethernet switch', instance=1), Appliance(type='USB hub', instance=1)])\n",
       "  ElecMeter(instance=22, building=1, dataset='UK-DALE', appliances=[Appliance(type='vacuum cleaner', instance=1)])\n",
       "  ElecMeter(instance=23, building=1, dataset='UK-DALE', appliances=[Appliance(type='light', instance=4)])\n",
       "  ElecMeter(instance=24, building=1, dataset='UK-DALE', appliances=[Appliance(type='light', instance=5)])\n",
       "  ElecMeter(instance=25, building=1, dataset='UK-DALE', appliances=[Appliance(type='light', instance=16)])\n",
       "  ElecMeter(instance=26, building=1, dataset='UK-DALE', appliances=[Appliance(type='light', instance=6)])\n",
       "  ElecMeter(instance=27, building=1, dataset='UK-DALE', appliances=[Appliance(type='tablet computer charger', instance=1)])\n",
       "  ElecMeter(instance=28, building=1, dataset='UK-DALE', appliances=[Appliance(type='active subwoofer', instance=1)])\n",
       "  ElecMeter(instance=29, building=1, dataset='UK-DALE', appliances=[Appliance(type='light', instance=7)])\n",
       "  ElecMeter(instance=30, building=1, dataset='UK-DALE', appliances=[Appliance(type='radio', instance=1)])\n",
       "  ElecMeter(instance=31, building=1, dataset='UK-DALE', appliances=[Appliance(type='light', instance=8)])\n",
       "  ElecMeter(instance=32, building=1, dataset='UK-DALE', appliances=[Appliance(type='wireless phone charger', instance=1), Appliance(type='audio system', instance=2)])\n",
       "  ElecMeter(instance=33, building=1, dataset='UK-DALE', appliances=[Appliance(type='light', instance=9)])\n",
       "  ElecMeter(instance=34, building=1, dataset='UK-DALE', appliances=[Appliance(type='mobile phone charger', instance=1)])\n",
       "  ElecMeter(instance=35, building=1, dataset='UK-DALE', appliances=[Appliance(type='light', instance=10)])\n",
       "  ElecMeter(instance=36, building=1, dataset='UK-DALE', appliances=[Appliance(type='coffee maker', instance=1)])\n",
       "  ElecMeter(instance=37, building=1, dataset='UK-DALE', appliances=[Appliance(type='radio', instance=2)])\n",
       "  ElecMeter(instance=38, building=1, dataset='UK-DALE', appliances=[Appliance(type='mobile phone charger', instance=2), Appliance(type='baby monitor', instance=2), Appliance(type='radio', instance=3)])\n",
       "  ElecMeter(instance=39, building=1, dataset='UK-DALE', appliances=[Appliance(type='hair dryer', instance=1)])\n",
       "  ElecMeter(instance=40, building=1, dataset='UK-DALE', appliances=[Appliance(type='hair straighteners', instance=1)])\n",
       "  ElecMeter(instance=41, building=1, dataset='UK-DALE', appliances=[Appliance(type='clothes iron', instance=1)])\n",
       "  ElecMeter(instance=42, building=1, dataset='UK-DALE', appliances=[Appliance(type='oven', instance=1)])\n",
       "  ElecMeter(instance=43, building=1, dataset='UK-DALE', appliances=[Appliance(type='computer', instance=1), Appliance(type='external hard disk', instance=1)])\n",
       "  ElecMeter(instance=44, building=1, dataset='UK-DALE', appliances=[Appliance(type='light', instance=11)])\n",
       "  ElecMeter(instance=45, building=1, dataset='UK-DALE', appliances=[Appliance(type='light', instance=12)])\n",
       "  ElecMeter(instance=46, building=1, dataset='UK-DALE', appliances=[Appliance(type='baby monitor', instance=1)])\n",
       "  ElecMeter(instance=47, building=1, dataset='UK-DALE', appliances=[Appliance(type='charger', instance=1)])\n",
       "  ElecMeter(instance=48, building=1, dataset='UK-DALE', appliances=[Appliance(type='light', instance=13)])\n",
       "  ElecMeter(instance=49, building=1, dataset='UK-DALE', appliances=[Appliance(type='light', instance=14)])\n",
       "  ElecMeter(instance=50, building=1, dataset='UK-DALE', appliances=[Appliance(type='light', instance=15)])\n",
       "  ElecMeter(instance=51, building=1, dataset='UK-DALE', appliances=[Appliance(type='desktop computer', instance=1)])\n",
       "  ElecMeter(instance=52, building=1, dataset='UK-DALE', appliances=[Appliance(type='fan', instance=1)])\n",
       "  ElecMeter(instance=53, building=1, dataset='UK-DALE', appliances=[Appliance(type='printer', instance=1)])\n",
       "  ElecMeter(instance=54, building=1, dataset='UK-DALE', site_meter, appliances=[Appliance(type='immersion heater', instance=1), Appliance(type='water pump', instance=1), Appliance(type='security alarm', instance=1), Appliance(type='fan', instance=2), Appliance(type='drill', instance=1), Appliance(type='laptop computer', instance=2)])\n",
       ")"
      ]
     },
     "execution_count": 8,
     "metadata": {},
     "output_type": "execute_result"
    }
   ],
   "source": [
    "ukdata.buildings[1].elec"
   ]
  },
  {
   "cell_type": "markdown",
   "metadata": {},
   "source": [
    "看一下1号居民的冰箱signature记录了什么，和冰箱具体数据（前5项）:"
   ]
  },
  {
   "cell_type": "code",
   "execution_count": 9,
   "metadata": {},
   "outputs": [
    {
     "data": {
      "text/html": [
       "<div>\n",
       "<style scoped>\n",
       "    .dataframe tbody tr th:only-of-type {\n",
       "        vertical-align: middle;\n",
       "    }\n",
       "\n",
       "    .dataframe tbody tr th {\n",
       "        vertical-align: top;\n",
       "    }\n",
       "\n",
       "    .dataframe thead tr th {\n",
       "        text-align: left;\n",
       "    }\n",
       "</style>\n",
       "<table border=\"1\" class=\"dataframe\">\n",
       "  <thead>\n",
       "    <tr>\n",
       "      <th>physical_quantity</th>\n",
       "      <th>power</th>\n",
       "    </tr>\n",
       "    <tr>\n",
       "      <th>type</th>\n",
       "      <th>active</th>\n",
       "    </tr>\n",
       "  </thead>\n",
       "  <tbody>\n",
       "    <tr>\n",
       "      <th>2012-12-14 22:21:32+00:00</th>\n",
       "      <td>85.0</td>\n",
       "    </tr>\n",
       "    <tr>\n",
       "      <th>2012-12-14 22:21:38+00:00</th>\n",
       "      <td>85.0</td>\n",
       "    </tr>\n",
       "    <tr>\n",
       "      <th>2012-12-14 22:21:44+00:00</th>\n",
       "      <td>84.0</td>\n",
       "    </tr>\n",
       "    <tr>\n",
       "      <th>2012-12-14 22:21:50+00:00</th>\n",
       "      <td>85.0</td>\n",
       "    </tr>\n",
       "    <tr>\n",
       "      <th>2012-12-14 22:21:56+00:00</th>\n",
       "      <td>85.0</td>\n",
       "    </tr>\n",
       "  </tbody>\n",
       "</table>\n",
       "</div>"
      ],
      "text/plain": [
       "physical_quantity          power\n",
       "type                      active\n",
       "2012-12-14 22:21:32+00:00   85.0\n",
       "2012-12-14 22:21:38+00:00   85.0\n",
       "2012-12-14 22:21:44+00:00   84.0\n",
       "2012-12-14 22:21:50+00:00   85.0\n",
       "2012-12-14 22:21:56+00:00   85.0"
      ]
     },
     "execution_count": 9,
     "metadata": {},
     "output_type": "execute_result"
    }
   ],
   "source": [
    "elec = ukdata.buildings[1].elec\n",
    "fridge = elec['fridge']\n",
    "fridge.available_columns()\n",
    "\n",
    "df = next(fridge.load())\n",
    "df.head()"
   ]
  },
  {
   "cell_type": "markdown",
   "metadata": {},
   "source": [
    "提取功率数据（对别的电器，可能不止测量了功率，还有其他的）："
   ]
  },
  {
   "cell_type": "code",
   "execution_count": 10,
   "metadata": {},
   "outputs": [
    {
     "data": {
      "text/plain": [
       "2012-12-14 22:21:32+00:00    85.0\n",
       "2012-12-14 22:21:38+00:00    85.0\n",
       "2012-12-14 22:21:44+00:00    84.0\n",
       "2012-12-14 22:21:50+00:00    85.0\n",
       "2012-12-14 22:21:56+00:00    85.0\n",
       "Name: (power, active), dtype: float32"
      ]
     },
     "execution_count": 10,
     "metadata": {},
     "output_type": "execute_result"
    }
   ],
   "source": [
    "series = next(fridge.power_series())\n",
    "series.head()\n"
   ]
  },
  {
   "cell_type": "code",
   "execution_count": 11,
   "metadata": {},
   "outputs": [
    {
     "data": {
      "text/html": [
       "<div>\n",
       "<style scoped>\n",
       "    .dataframe tbody tr th:only-of-type {\n",
       "        vertical-align: middle;\n",
       "    }\n",
       "\n",
       "    .dataframe tbody tr th {\n",
       "        vertical-align: top;\n",
       "    }\n",
       "\n",
       "    .dataframe thead tr th {\n",
       "        text-align: left;\n",
       "    }\n",
       "</style>\n",
       "<table border=\"1\" class=\"dataframe\">\n",
       "  <thead>\n",
       "    <tr>\n",
       "      <th>physical_quantity</th>\n",
       "      <th>power</th>\n",
       "    </tr>\n",
       "    <tr>\n",
       "      <th>type</th>\n",
       "      <th>active</th>\n",
       "    </tr>\n",
       "  </thead>\n",
       "  <tbody>\n",
       "    <tr>\n",
       "      <th>2012-12-14 22:21:00+00:00</th>\n",
       "      <td>84.800003</td>\n",
       "    </tr>\n",
       "    <tr>\n",
       "      <th>2012-12-14 22:22:00+00:00</th>\n",
       "      <td>85.300003</td>\n",
       "    </tr>\n",
       "    <tr>\n",
       "      <th>2012-12-14 22:23:00+00:00</th>\n",
       "      <td>89.000000</td>\n",
       "    </tr>\n",
       "    <tr>\n",
       "      <th>2012-12-14 22:24:00+00:00</th>\n",
       "      <td>91.099998</td>\n",
       "    </tr>\n",
       "    <tr>\n",
       "      <th>2012-12-14 22:25:00+00:00</th>\n",
       "      <td>86.222221</td>\n",
       "    </tr>\n",
       "  </tbody>\n",
       "</table>\n",
       "</div>"
      ],
      "text/plain": [
       "physical_quantity              power\n",
       "type                          active\n",
       "2012-12-14 22:21:00+00:00  84.800003\n",
       "2012-12-14 22:22:00+00:00  85.300003\n",
       "2012-12-14 22:23:00+00:00  89.000000\n",
       "2012-12-14 22:24:00+00:00  91.099998\n",
       "2012-12-14 22:25:00+00:00  86.222221"
      ]
     },
     "execution_count": 11,
     "metadata": {},
     "output_type": "execute_result"
    }
   ],
   "source": [
    "#采样周期为1分钟(不知道是如何采样的，应该是60s内数据的平均)\n",
    "df = next(fridge.load(ac_type='active', sample_period=60))\n",
    "df.head()\n",
    "\n"
   ]
  },
  {
   "cell_type": "code",
   "execution_count": 12,
   "metadata": {},
   "outputs": [
    {
     "data": {
      "image/png": "[encoded data removed]",
      "text/plain": [
       "<Figure size 640x480 with 1 Axes>"
      ]
     },
     "metadata": {},
     "output_type": "display_data"
    }
   ],
   "source": [
    "#绘图看看\n",
    "import matplotlib.pyplot as plt\n",
    "data = series[:1000]\n",
    "plt.plot(data)\n",
    "plt.show()"
   ]
  }
 ],
 "metadata": {
  "kernelspec": {
   "display_name": "Python 3.8.13 (conda)",
   "language": "python",
   "name": "python3"
  },
  "language_info": {
   "codemirror_mode": {
    "name": "ipython",
    "version": 3
   },
   "file_extension": ".py",
   "mimetype": "text/x-python",
   "name": "python",
   "nbconvert_exporter": "python",
   "pygments_lexer": "ipython3",
   "version": "3.8.13"
  },
  "orig_nbformat": 4,
  "vscode": {
   "interpreter": {
    "hash": "b4fa73ca88f3951061d86ecabf40e58ebd1445a33a5f8674155e34330ef45931"
   }
  }
 },
 "nbformat": 4,
 "nbformat_minor": 2
}
